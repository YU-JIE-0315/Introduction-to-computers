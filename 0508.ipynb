{
  "nbformat": 4,
  "nbformat_minor": 0,
  "metadata": {
    "colab": {
      "provenance": [],
      "authorship_tag": "ABX9TyNce8/3O/fH/cw0R1RiS+uR",
      "include_colab_link": true
    },
    "kernelspec": {
      "name": "python3",
      "display_name": "Python 3"
    },
    "language_info": {
      "name": "python"
    }
  },
  "cells": [
    {
      "cell_type": "markdown",
      "metadata": {
        "id": "view-in-github",
        "colab_type": "text"
      },
      "source": [
        "<a href=\"https://colab.research.google.com/github/YU-JIE-0315/Introduction-to-computers/blob/main/0508.ipynb\" target=\"_parent\"><img src=\"https://colab.research.google.com/assets/colab-badge.svg\" alt=\"Open In Colab\"/></a>"
      ]
    },
    {
      "cell_type": "code",
      "execution_count": 1,
      "metadata": {
        "colab": {
          "base_uri": "https://localhost:8080/"
        },
        "id": "Iywuglj4XuTF",
        "outputId": "368ceda2-f608-4aa4-99be-e0cfe025decb"
      },
      "outputs": [
        {
          "output_type": "stream",
          "name": "stdout",
          "text": [
            "請輸入體溫：36.5\n",
            "體溫正常！\n"
          ]
        }
      ],
      "source": [
        "體溫 = float(input(\"請輸入體溫：\"))\n",
        "if 體溫 >= 37.5:\n",
        "  print(\"體溫過高！\")\n",
        "elif 37 <= 體溫 <= 37.4:\n",
        "  print(\"體溫略高。\")\n",
        "elif (34 <= 體溫 <= 36.9):\n",
        "  print(\"體溫正常！\")\n",
        "else:\n",
        "  print(\"體溫異常，請重新測量！\")"
      ]
    },
    {
      "cell_type": "code",
      "source": [
        "print(\"請計算最終成績\")\n",
        "score=input(\"請輸入分數\")\n",
        "sc=int(score)\n",
        "if(sc>=90):\n",
        " print(\"A\")\n",
        "elif(sc>=80):\n",
        "  print(\"B\")\n",
        "elif(sc>=70):\n",
        "  print(\"C\")\n",
        "elif(sc>=60):\n",
        "  print(\"D\")\n",
        "else:\n",
        "  print(\"E\")"
      ],
      "metadata": {
        "colab": {
          "base_uri": "https://localhost:8080/"
        },
        "id": "sbSwadCJ0lfb",
        "outputId": "f0530428-f259-470d-aac0-7261c94a5679"
      },
      "execution_count": 2,
      "outputs": [
        {
          "output_type": "stream",
          "name": "stdout",
          "text": [
            "請計算最終成績\n",
            "請輸入分數90\n",
            "A\n"
          ]
        }
      ]
    },
    {
      "cell_type": "code",
      "source": [
        "月份 = int(input(\"請輸入月份：\"))\n",
        "if 月份 in (3, 4, 5):\n",
        "    print(\"春天\")\n",
        "elif 月份 in (6, 7, 8):\n",
        "  print(\"夏天\")\n",
        "elif 月份 in (9, 10, 11):\n",
        "  print(\"秋天\")\n",
        "elif 月份 in (12, 1, 2):\n",
        "  print(\"冬天\")\n",
        "  print(\"冬天\")\n",
        "else:\n",
        "  print(\"月份不在範圍內\")"
      ],
      "metadata": {
        "colab": {
          "base_uri": "https://localhost:8080/"
        },
        "id": "5aBnzrJL1IRl",
        "outputId": "a7c930aa-41b4-441c-8f8a-3a296f03a08d"
      },
      "execution_count": 3,
      "outputs": [
        {
          "output_type": "stream",
          "name": "stdout",
          "text": [
            "請輸入月份：3\n",
            "春天\n"
          ]
        }
      ]
    }
  ]
}